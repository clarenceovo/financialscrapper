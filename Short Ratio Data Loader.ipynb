{
 "cells": [
  {
   "cell_type": "code",
   "execution_count": 39,
   "metadata": {},
   "outputs": [],
   "source": [
    "import pandas as pd \n",
    "import numpy as np \n",
    "import requests\n",
    "import datetime\n",
    "from bs4 import BeautifulSoup\n",
    "import json\n",
    "from dataHandler import db_connector\n",
    "import moment\n",
    "#Create Database connection to RDS database\n",
    "\"\"\"\n",
    "    Short Ratio Graph (Future) API endpoint:\n",
    "    https://www.hkex.com.hk/eng/stat/dmstat/marksum/DailyStatistics_FnO.json?_=1591251176247\n",
    "    \n",
    "    Stock Short Ratio Graph API endpoint: #morning\n",
    "    https://www.hkex.com.hk/eng/stat/smstat/ssturnover/ncms/mshtmain.htm\n",
    "    \n",
    "    stock short ratio graph API endpoint: #day end\n",
    "    https://www.hkex.com.hk/eng/stat/smstat/ssturnover/ncms/ashtmain.htm\n",
    "\n",
    "\"\"\"\n",
    "class ShortRatioObject:\n",
    "    totalObjectList =[]\n",
    "    def __init__(self,stockNum,numStock,numAmount,date):\n",
    "        self.date = date\n",
    "        self.stockNum = stockNum\n",
    "        self.numStock = numStock\n",
    "        self.numAmount = numAmount\n",
    "        self.date = date\n",
    "        self.totalObjectList.append(self)\n",
    "    \n",
    "    def upload(self):\n",
    "        #upload the data to the database\n",
    "        for obj in self.totalObjectList:\n",
    "            #to be implemented\n",
    "            print(obj.stockNum)\n",
    "            \n",
    "class FutureStatObject:\n",
    "    futureObjectList =[]\n",
    "    def __init__(self,date,spotMonth,secondMonth,contractVolume,oi):\n",
    "        #DATE , SPOT MONTH , SECOND MONTH , CONTRACT VOLUME , OI\n",
    "        self.date = date\n",
    "        self.spotMonth = spotMonth\n",
    "        self.secondMonth= secondMonth\n",
    "        self.contractVolume = contractVolume\n",
    "        self.oi = oi\n",
    "        self.futureObjectList.append(self)\n",
    "    \n",
    "    def upload(self):\n",
    "        #upload the data to the database\n",
    "        for obj in self.futureObjectList:\n",
    "            #to be implemented\n",
    "            print(obj.stockNum)\n",
    "        \n",
    "        \n",
    "def stock_short_pos_html_parser(htmlObject):\n",
    "    bodyObject = htmlObject.find('font').text\n",
    "    bodyObject=bodyObject.split('\\n')\n",
    "    bodyObject = [x for x in bodyObject if x]\n",
    "    #bodyObject=bodyObject[4:]\n",
    "    for x in bodyObject:\n",
    "        rowObject = x.split(' ')\n",
    "        rowObject = [x for x in rowObject if x]\n",
    "        if(rowObject[0].isnumeric()): #valid row column\n",
    "            tickObj=ShortRatioObject(int(rowObject[0].replace(',','')),int(rowObject[-2].replace(',','').replace('\\r','')),\\\n",
    "                                     int(rowObject[-1].replace(',','').replace('\\r','')),\\\n",
    "                                     datetime.datetime.utcnow() + datetime.timedelta(hours=8))\n",
    "    tickObj.upload()\n",
    "    return bodyObject\n",
    "        \n",
    "def morning_close():    \n",
    "    fp  = requests.get('https://www.hkex.com.hk/eng/stat/smstat/ssturnover/ncms/mshtmain.htm')\n",
    "    webInfo = BeautifulSoup(fp.content,'html.parser')\n",
    "    fp.close()\n",
    "    infoObj = stock_short_pos_html_parser(webInfo)\n",
    "    \n",
    "     \n",
    "def future_short_ratio(): #HSI Future\n",
    "    fp  = requests.get('https://www.hkex.com.hk/eng/stat/dmstat/marksum/DailyStatistics_F1_HSI_290.json?_=1591254936923')\n",
    "    jsonObj = json.loads(fp.text)['tables'][0]['body']\n",
    "    \n",
    "    step_var = 5\n",
    "    init_var = 0\n",
    "\n",
    "    for x in range(0,len(jsonObj),5):\n",
    "        futureObj = FutureStatObject(moment.date(jsonObj[0+x]['text'],'YYYY M DD').strftime('%Y-%m-%d')\\\n",
    "                                    ,int(jsonObj[1+x]['text'].replace(',',''))\\\n",
    "                                    ,int(jsonObj[2+x]['text'].replace(',',''))\\\n",
    "                                    ,int(jsonObj[3+x]['text'].replace(',',''))\\\n",
    "                                    ,int(jsonObj[4+x]['text'].replace(',','')))\n",
    "        \n",
    "        \n",
    "    #infoObj = stock_short_pos_html_parser(webInfo)\n",
    "    "
   ]
  },
  {
   "cell_type": "code",
   "execution_count": 41,
   "metadata": {},
   "outputs": [
    {
     "name": "stdout",
     "output_type": "stream",
     "text": [
      "139643\n"
     ]
    }
   ],
   "source": [
    "if __name__ == '__main__': #Set up the main function\n",
    "    #morning_close()\n",
    "    future_short_ratio()\n",
    "    #db_connector.testing()\n",
    "    #print(infoObj)\n",
    "    \n",
    "    \n",
    "    "
   ]
  },
  {
   "cell_type": "code",
   "execution_count": null,
   "metadata": {},
   "outputs": [],
   "source": []
  },
  {
   "cell_type": "code",
   "execution_count": null,
   "metadata": {},
   "outputs": [],
   "source": []
  },
  {
   "cell_type": "code",
   "execution_count": null,
   "metadata": {},
   "outputs": [],
   "source": []
  },
  {
   "cell_type": "code",
   "execution_count": null,
   "metadata": {},
   "outputs": [],
   "source": []
  },
  {
   "cell_type": "code",
   "execution_count": null,
   "metadata": {},
   "outputs": [],
   "source": []
  }
 ],
 "metadata": {
  "kernelspec": {
   "display_name": "Python 3",
   "language": "python",
   "name": "python3"
  },
  "language_info": {
   "codemirror_mode": {
    "name": "ipython",
    "version": 3
   },
   "file_extension": ".py",
   "mimetype": "text/x-python",
   "name": "python",
   "nbconvert_exporter": "python",
   "pygments_lexer": "ipython3",
   "version": "3.7.4"
  }
 },
 "nbformat": 4,
 "nbformat_minor": 2
}
